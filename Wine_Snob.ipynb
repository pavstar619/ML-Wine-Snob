{
  "nbformat": 4,
  "nbformat_minor": 0,
  "metadata": {
    "colab": {
      "name": "Wine Snob.ipynb",
      "provenance": [],
      "authorship_tag": "ABX9TyP4EkxE4T1yWacwXFH2X+ZM",
      "include_colab_link": true
    },
    "kernelspec": {
      "name": "python3",
      "display_name": "Python 3"
    }
  },
  "cells": [
    {
      "cell_type": "markdown",
      "metadata": {
        "id": "view-in-github",
        "colab_type": "text"
      },
      "source": [
        "<a href=\"https://colab.research.google.com/github/pavstar619/ML-Wine-Snob/blob/master/Wine_Snob.ipynb\" target=\"_parent\"><img src=\"https://colab.research.google.com/assets/colab-badge.svg\" alt=\"Open In Colab\"/></a>"
      ]
    },
    {
      "cell_type": "code",
      "metadata": {
        "id": "q6K_7PsZPUJf",
        "colab_type": "code",
        "colab": {}
      },
      "source": [
        "# 2. Import libraries and modules\n",
        "import numpy as np\n",
        "import pandas as pd\n",
        " \n",
        "from sklearn.model_selection import train_test_split\n",
        "from sklearn import preprocessing\n",
        "from sklearn.ensemble import RandomForestRegressor\n",
        "from sklearn.pipeline import make_pipeline\n",
        "from sklearn.model_selection import GridSearchCV\n",
        "from sklearn.metrics import mean_squared_error, r2_score\n",
        "from sklearn.externals import joblib "
      ],
      "execution_count": 11,
      "outputs": []
    },
    {
      "cell_type": "code",
      "metadata": {
        "id": "Rh2FQCTdQk0S",
        "colab_type": "code",
        "colab": {}
      },
      "source": [
        "# 3. Load red wine data.\n",
        "dataset_url = 'https://archive.ics.uci.edu/ml/machine-learning-databases/wine-quality/winequality-red.csv'\n",
        "data = pd.read_csv(dataset_url, sep=';')"
      ],
      "execution_count": 12,
      "outputs": []
    },
    {
      "cell_type": "code",
      "metadata": {
        "id": "dYFDuhCFQleE",
        "colab_type": "code",
        "colab": {}
      },
      "source": [
        "# 4. Split data into training and test sets\n",
        "y = data.quality\n",
        "X = data.drop('quality', axis=1)\n",
        "X_train, X_test, y_train, y_test = train_test_split(X, y, \n",
        "                                                    test_size=0.2, \n",
        "                                                    random_state=123, \n",
        "                                                    stratify=y)"
      ],
      "execution_count": 13,
      "outputs": []
    },
    {
      "cell_type": "code",
      "metadata": {
        "id": "_HqNLY7FQn_O",
        "colab_type": "code",
        "colab": {}
      },
      "source": [
        "# 5. Declare data preprocessing steps\n",
        "pipeline = make_pipeline(preprocessing.StandardScaler(), \n",
        "                         RandomForestRegressor(n_estimators=100))"
      ],
      "execution_count": 14,
      "outputs": []
    },
    {
      "cell_type": "code",
      "metadata": {
        "id": "j90jIVxpQqQS",
        "colab_type": "code",
        "colab": {}
      },
      "source": [
        "# 6. Declare hyperparameters to tune\n",
        "hyperparameters = { 'randomforestregressor__max_features' : ['auto', 'sqrt', 'log2'],\n",
        "                  'randomforestregressor__max_depth': [None, 5, 3, 1]}"
      ],
      "execution_count": 15,
      "outputs": []
    },
    {
      "cell_type": "code",
      "metadata": {
        "id": "L6Q6Dy0QQsR6",
        "colab_type": "code",
        "colab": {
          "base_uri": "https://localhost:8080/",
          "height": 527
        },
        "outputId": "639efb9a-79d6-4470-a828-dfbf317753ad"
      },
      "source": [
        "# 7. Tune model using cross-validation pipeline\n",
        "clf = GridSearchCV(pipeline, hyperparameters, cv=10)\n",
        " \n",
        "clf.fit(X_train, y_train)\n"
      ],
      "execution_count": 16,
      "outputs": [
        {
          "output_type": "execute_result",
          "data": {
            "text/plain": [
              "GridSearchCV(cv=10, error_score=nan,\n",
              "             estimator=Pipeline(memory=None,\n",
              "                                steps=[('standardscaler',\n",
              "                                        StandardScaler(copy=True,\n",
              "                                                       with_mean=True,\n",
              "                                                       with_std=True)),\n",
              "                                       ('randomforestregressor',\n",
              "                                        RandomForestRegressor(bootstrap=True,\n",
              "                                                              ccp_alpha=0.0,\n",
              "                                                              criterion='mse',\n",
              "                                                              max_depth=None,\n",
              "                                                              max_features='auto',\n",
              "                                                              max_leaf_nodes=None,\n",
              "                                                              max_samples=None,\n",
              "                                                              min_impurity_decrease=0.0,\n",
              "                                                              min_impurity_...\n",
              "                                                              min_weight_fraction_leaf=0.0,\n",
              "                                                              n_estimators=100,\n",
              "                                                              n_jobs=None,\n",
              "                                                              oob_score=False,\n",
              "                                                              random_state=None,\n",
              "                                                              verbose=0,\n",
              "                                                              warm_start=False))],\n",
              "                                verbose=False),\n",
              "             iid='deprecated', n_jobs=None,\n",
              "             param_grid={'randomforestregressor__max_depth': [None, 5, 3, 1],\n",
              "                         'randomforestregressor__max_features': ['auto', 'sqrt',\n",
              "                                                                 'log2']},\n",
              "             pre_dispatch='2*n_jobs', refit=True, return_train_score=False,\n",
              "             scoring=None, verbose=0)"
            ]
          },
          "metadata": {
            "tags": []
          },
          "execution_count": 16
        }
      ]
    },
    {
      "cell_type": "code",
      "metadata": {
        "id": "_OzhW0FPQvYs",
        "colab_type": "code",
        "colab": {}
      },
      "source": [
        "# 8. Refit on the entire training set\n",
        "# No additional code needed if clf.refit == True (default is True)\n"
      ],
      "execution_count": 17,
      "outputs": []
    },
    {
      "cell_type": "code",
      "metadata": {
        "id": "yiOV8_NdQyDa",
        "colab_type": "code",
        "colab": {
          "base_uri": "https://localhost:8080/",
          "height": 51
        },
        "outputId": "3f5b4896-8e66-4dd1-f411-02e852c9642f"
      },
      "source": [
        "# 9. Evaluate model pipeline on test data\n",
        "pred = clf.predict(X_test)\n",
        "print (r2_score(y_test, pred))\n",
        "print (mean_squared_error(y_test, pred))\n"
      ],
      "execution_count": 18,
      "outputs": [
        {
          "output_type": "stream",
          "text": [
            "0.4713704219383741\n",
            "0.341110625\n"
          ],
          "name": "stdout"
        }
      ]
    },
    {
      "cell_type": "code",
      "metadata": {
        "id": "GjDAvRH4Q2Fk",
        "colab_type": "code",
        "colab": {
          "base_uri": "https://localhost:8080/",
          "height": 34
        },
        "outputId": "690d230f-50ab-4c68-deca-eda449169600"
      },
      "source": [
        "# 10. Save model for future use\n",
        "#joblib.dump(clf, 'rf_regressor.pkl')\n",
        "# To load: clf2 = joblib.load('rf_regressor.pkl')"
      ],
      "execution_count": 20,
      "outputs": [
        {
          "output_type": "execute_result",
          "data": {
            "text/plain": [
              "['rf_regressor.pkl']"
            ]
          },
          "metadata": {
            "tags": []
          },
          "execution_count": 20
        }
      ]
    },
    {
      "cell_type": "code",
      "metadata": {
        "id": "jO78EaRRRvTe",
        "colab_type": "code",
        "colab": {}
      },
      "source": [
        "# Download the pkl file\n",
        "''' from google.colab import files\n",
        "files.download('rf_regressor.pkl') '''"
      ],
      "execution_count": null,
      "outputs": []
    }
  ]
}